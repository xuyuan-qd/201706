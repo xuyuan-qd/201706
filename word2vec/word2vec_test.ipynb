{
 "metadata": {
  "name": "",
  "signature": "sha256:daf3c0b5d8ebb962b46ef3e6cc81c0d3f93505d101f336a0954eb0758cc57c1c"
 },
 "nbformat": 3,
 "nbformat_minor": 0,
 "worksheets": [
  {
   "cells": [
    {
     "cell_type": "code",
     "collapsed": false,
     "input": [
      "import gensim"
     ],
     "language": "python",
     "metadata": {},
     "outputs": [],
     "prompt_number": 1
    },
    {
     "cell_type": "code",
     "collapsed": false,
     "input": [
      "model = gensim.models.Word2Vec.load('model.out')"
     ],
     "language": "python",
     "metadata": {},
     "outputs": [],
     "prompt_number": 2
    },
    {
     "cell_type": "code",
     "collapsed": false,
     "input": [
      "l = model.wv.most_similar(positive=['\u591a\u5c11','\u6709'])\n",
      "for word in l:\n",
      "    print word[0].decode('utf8')"
     ],
     "language": "python",
     "metadata": {},
     "outputs": [
      {
       "output_type": "stream",
       "stream": "stdout",
       "text": [
        "\u7684\n",
        "\u591a\n",
        "\u4e00\u4e24\n",
        "\u4ec0\u4e48\n",
        "\uff0c\n",
        "\u54ea\n",
        "\u51e0\n",
        "\u8fd9\u4e9b\n",
        "\u5f88\u591a\n",
        "\u51e0\u5341\n"
       ]
      }
     ],
     "prompt_number": 16
    },
    {
     "cell_type": "code",
     "collapsed": false,
     "input": [
      "model.score(['\u6709', '\u591a\u5c11'])"
     ],
     "language": "python",
     "metadata": {},
     "outputs": [
      {
       "ename": "RuntimeError",
       "evalue": "We have currently only implemented score                     for the hierarchical softmax scheme, so you need to have                     run word2vec with hs=1 and negative=0 for this to work.",
       "output_type": "pyerr",
       "traceback": [
        "\u001b[0;31m---------------------------------------------------------------------------\u001b[0m\n\u001b[0;31mRuntimeError\u001b[0m                              Traceback (most recent call last)",
        "\u001b[0;32m<ipython-input-17-88a6e02f5055>\u001b[0m in \u001b[0;36m<module>\u001b[0;34m()\u001b[0m\n\u001b[0;32m----> 1\u001b[0;31m \u001b[0mmodel\u001b[0m\u001b[0;34m.\u001b[0m\u001b[0mscore\u001b[0m\u001b[0;34m(\u001b[0m\u001b[0;34m[\u001b[0m\u001b[0;34m'\u6709'\u001b[0m\u001b[0;34m,\u001b[0m \u001b[0;34m'\u591a\u5c11'\u001b[0m\u001b[0;34m]\u001b[0m\u001b[0;34m)\u001b[0m\u001b[0;34m\u001b[0m\u001b[0m\n\u001b[0m",
        "\u001b[0;32m/home/michael/.local/lib/python2.7/site-packages/gensim/models/word2vec.pyc\u001b[0m in \u001b[0;36mscore\u001b[0;34m(self, sentences, total_sentences, chunksize, queue_factor, report_delay)\u001b[0m\n\u001b[1;32m   1011\u001b[0m             raise RuntimeError(\"We have currently only implemented score \\\n\u001b[1;32m   1012\u001b[0m                     \u001b[0;32mfor\u001b[0m \u001b[0mthe\u001b[0m \u001b[0mhierarchical\u001b[0m \u001b[0msoftmax\u001b[0m \u001b[0mscheme\u001b[0m\u001b[0;34m,\u001b[0m \u001b[0mso\u001b[0m \u001b[0myou\u001b[0m \u001b[0mneed\u001b[0m \u001b[0mto\u001b[0m \u001b[0mhave\u001b[0m\u001b[0;31m \u001b[0m\u001b[0;31m\\\u001b[0m\u001b[0;34m\u001b[0m\u001b[0m\n\u001b[0;32m-> 1013\u001b[0;31m                     run word2vec with hs=1 and negative=0 for this to work.\")\n\u001b[0m\u001b[1;32m   1014\u001b[0m \u001b[0;34m\u001b[0m\u001b[0m\n\u001b[1;32m   1015\u001b[0m         \u001b[0;32mdef\u001b[0m \u001b[0mworker_loop\u001b[0m\u001b[0;34m(\u001b[0m\u001b[0;34m)\u001b[0m\u001b[0;34m:\u001b[0m\u001b[0;34m\u001b[0m\u001b[0m\n",
        "\u001b[0;31mRuntimeError\u001b[0m: We have currently only implemented score                     for the hierarchical softmax scheme, so you need to have                     run word2vec with hs=1 and negative=0 for this to work."
       ]
      }
     ],
     "prompt_number": 17
    }
   ],
   "metadata": {}
  }
 ]
}