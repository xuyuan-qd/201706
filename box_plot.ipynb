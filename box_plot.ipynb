{
 "metadata": {
  "name": "",
  "signature": "sha256:8a4786a059c64221c7d2e64d9cb900edfc57ffd4859b998884fe86385f60e40e"
 },
 "nbformat": 3,
 "nbformat_minor": 0,
 "worksheets": [
  {
   "cells": [
    {
     "cell_type": "code",
     "collapsed": false,
     "input": [
      "import matplotlib.pyplot as plt\n",
      "%matplotlib inline"
     ],
     "language": "python",
     "metadata": {},
     "outputs": [],
     "prompt_number": 2
    },
    {
     "cell_type": "code",
     "collapsed": false,
     "input": [
      "fig = plt.figure()"
     ],
     "language": "python",
     "metadata": {},
     "outputs": [
      {
       "metadata": {},
       "output_type": "display_data",
       "text": [
        "<matplotlib.figure.Figure at 0x7fbffadbadd0>"
       ]
      }
     ],
     "prompt_number": 18
    },
    {
     "cell_type": "code",
     "collapsed": false,
     "input": [
      "x = [[1,2,3],[2,3,4]]"
     ],
     "language": "python",
     "metadata": {},
     "outputs": [],
     "prompt_number": 3
    },
    {
     "cell_type": "code",
     "collapsed": false,
     "input": [
      "plt.boxplot(x)"
     ],
     "language": "python",
     "metadata": {},
     "outputs": [
      {
       "metadata": {},
       "output_type": "pyout",
       "prompt_number": 4,
       "text": [
        "{'boxes': [<matplotlib.lines.Line2D at 0x7f49ce3c3650>,\n",
        "  <matplotlib.lines.Line2D at 0x7f49ce3eae90>],\n",
        " 'caps': [<matplotlib.lines.Line2D at 0x7f49ce3dd590>,\n",
        "  <matplotlib.lines.Line2D at 0x7f49ce3ddbd0>,\n",
        "  <matplotlib.lines.Line2D at 0x7f49ce884210>,\n",
        "  <matplotlib.lines.Line2D at 0x7f49ce884850>],\n",
        " 'fliers': [<matplotlib.lines.Line2D at 0x7f49ce3ea890>,\n",
        "  <matplotlib.lines.Line2D at 0x7f49ce891510>],\n",
        " 'means': [],\n",
        " 'medians': [<matplotlib.lines.Line2D at 0x7f49ce3ea250>,\n",
        "  <matplotlib.lines.Line2D at 0x7f49ce884e90>],\n",
        " 'whiskers': [<matplotlib.lines.Line2D at 0x7f4a046abe90>,\n",
        "  <matplotlib.lines.Line2D at 0x7f49ce3c3f10>,\n",
        "  <matplotlib.lines.Line2D at 0x7f49ce3f8550>,\n",
        "  <matplotlib.lines.Line2D at 0x7f49ce3f8b90>]}"
       ]
      },
      {
       "metadata": {},
       "output_type": "display_data",
       "png": "[encoded data removed]",
       "text": [
        "<matplotlib.figure.Figure at 0x7f49ce6cbbd0>"
       ]
      }
     ],
     "prompt_number": 4
    },
    {
     "cell_type": "code",
     "collapsed": false,
     "input": [
      "plt.savefig(\"test.png\")"
     ],
     "language": "python",
     "metadata": {},
     "outputs": [
      {
       "metadata": {},
       "output_type": "display_data",
       "text": [
        "<matplotlib.figure.Figure at 0x7f49ce802210>"
       ]
      }
     ],
     "prompt_number": 5
    },
    {
     "cell_type": "code",
     "collapsed": false,
     "input": [
      "train_loss = [[2.6463191246986391, 2.0015255105495453, 1.6432525444030761, 1.5288053262233734, 1.3930570870637893, 1.384965761899948, 1.3698608601093292, 1.1899441528320311, 1.1293991023302079, 1.1240403443574905, 1.0589193260669709, 1.1098771929740905, 1.0914083933830261, 1.081228654384613, 1.0706484639644622, 1.0991213613748549, 1.0523609215021132, 1.1024609363079072, 1.0850404971837997, 1.059822257757187, 1.0857520663738252, 1.0853298616409301, 1.0642100471258162, 1.0777298539876938, 1.084876573085785, 1.0457199776172639, 1.0593549013137817, 1.0606100177764892, 1.0700788122415543, 1.0740737456083298, 1.0768873590230941, 1.0701171046495437, 1.0744857203960418, 1.0682918578386307, 1.094997507929802, 1.0579732310771943, 1.0803533291816712, 1.0793928897380829, 1.0745207488536834, 1.0898283678293228, 1.0868630212545396, 1.0704321962594987, 1.0825528264045716, 1.0614502477645873, 1.0608086448907852, 1.1001084411144257, 1.0816407686471938, 1.0870380967855453, 1.0710733437538147, 1.0726263588666916, 1.0588813924789429, 1.0718942385911943, 1.07237367272377, 1.0676590782403945, 1.0587565195560455, 1.0845702469348908, 1.064854897260666, 1.0588138365745545, 1.0822406542301177, 1.0899977523088455, 1.0487602627277375, 1.0626146334409714, 1.0702039182186127, 1.0740506625175477, 1.0604666048288345, 1.0831941509246825, 1.0536319172382356, 1.0678395247459411, 1.0700707519054413, 1.0614724963903428, 1.0669021284580231, 1.0601232200860977, 1.0579423040151597, 1.0863252830505372, 1.0568152952194214, 1.0592482686042786, 1.0763120585680008, 1.0522072786092758, 1.0620615369081496, 1.0628702288866043, 1.0722569102048873, 1.0722526037693023, 1.0603740280866623, 1.0703866583108903, 1.0782639515399932, 1.0809307426214219, 1.0865222257375717, 1.0514126926660539, 1.0503755050897599, 1.0829479527473449, 1.0654552811384201, 1.0675614869594574, 1.0788616359233856, 1.0808176612854004, 1.0644505828619004, 1.0585809355974198, 1.0666291850805283, 1.0462452375888824, 1.0391861277818679, 1.0681338930130004, 1.076027061343193, 1.0707566362619401, 1.0694241696596145, 1.0764509487152099, 1.0636638706922532, 1.0610803347826003, 1.0738196069002151, 1.074504141807556, 1.0775878161191941, 1.0799587011337279, 1.0545075869560241, 1.0510826426744462, 1.06224675655365, 1.0786776381731034, 1.0642454773187637, 1.0770645123720168, 1.0702607917785645, 1.0595475488901138, 1.0764410597085954, 1.0581472599506379, 1.087191127538681, 1.0501330107450486, 1.0604770427942276, 1.071248356103897, 1.0746556413173676, 1.0843311953544617, 1.038848832845688, 1.0659611421823501, 1.0731941896677017, 1.0678438180685044, 1.0628604608774186, 1.0849448508024215, 1.0758244460821151, 1.0753407090902329, 1.0862819743156433, 1.0723701530694962, 1.0612715041637422, 1.0822804486751556, 1.0905358082056045, 1.0705299448966981, 1.0685393273830415, 1.0808995711803435, 1.0654365819692613, 1.0605864053964615, 1.0746447229385376, 1.0716642189025878, 1.0494208997488021, 1.0810842448472977, 1.0689197230339049, 1.0652632665634156, 1.0464992183446884, 1.0545398879051209, 1.0766262298822402, 1.0629458659887314, 1.0725704890489578, 1.068946887254715, 1.0546948111057282, 1.0462372142076493, 1.058710424900055, 1.0671875172853469, 1.094523879289627, 1.0732549130916595, 1.0646321332454682, 1.0923506951332091, 1.0715321755409242, 1.0613178682327271, 1.0685600608587265, 1.0820827496051788, 1.0598652619123459, 1.0525057393312454, 1.0621859699487686, 1.070890285372734, 1.0768249833583832, 1.0608261102437972], [], [], [], [], [], [], [], [], []] "
     ],
     "language": "python",
     "metadata": {},
     "outputs": [],
     "prompt_number": 1
    },
    {
     "cell_type": "code",
     "collapsed": false,
     "input": [
      "plt.figure()\n",
      "plt.boxplot(train_loss)"
     ],
     "language": "python",
     "metadata": {},
     "outputs": [
      {
       "metadata": {},
       "output_type": "pyout",
       "prompt_number": 4,
       "text": [
        "{'boxes': [<matplotlib.lines.Line2D at 0x7fe4f97f3f50>,\n",
        "  <matplotlib.lines.Line2D at 0x7fe4f982a7d0>,\n",
        "  <matplotlib.lines.Line2D at 0x7fe4f9bcf450>,\n",
        "  <matplotlib.lines.Line2D at 0x7fe4f99b4090>,\n",
        "  <matplotlib.lines.Line2D at 0x7fe4f99cbc90>,\n",
        "  <matplotlib.lines.Line2D at 0x7fe4f99e43d0>,\n",
        "  <matplotlib.lines.Line2D at 0x7fe4f997ff90>,\n",
        "  <matplotlib.lines.Line2D at 0x7fe4f99a3bd0>,\n",
        "  <matplotlib.lines.Line2D at 0x7fe4f9949810>,\n",
        "  <matplotlib.lines.Line2D at 0x7fe4f98ed450>],\n",
        " 'caps': [<matplotlib.lines.Line2D at 0x7fe4f980be90>,\n",
        "  <matplotlib.lines.Line2D at 0x7fe4f981d510>,\n",
        "  <matplotlib.lines.Line2D at 0x7fe4f9bb7b10>,\n",
        "  <matplotlib.lines.Line2D at 0x7fe4f9bc2190>,\n",
        "  <matplotlib.lines.Line2D at 0x7fe4f9bd9750>,\n",
        "  <matplotlib.lines.Line2D at 0x7fe4f9bd9d90>,\n",
        "  <matplotlib.lines.Line2D at 0x7fe4f99be390>,\n",
        "  <matplotlib.lines.Line2D at 0x7fe4f99be9d0>,\n",
        "  <matplotlib.lines.Line2D at 0x7fe4f99d7f90>,\n",
        "  <matplotlib.lines.Line2D at 0x7fe4f9b65f90>,\n",
        "  <matplotlib.lines.Line2D at 0x7fe4f9973690>,\n",
        "  <matplotlib.lines.Line2D at 0x7fe4f9973cd0>,\n",
        "  <matplotlib.lines.Line2D at 0x7fe4f99972d0>,\n",
        "  <matplotlib.lines.Line2D at 0x7fe4f9997910>,\n",
        "  <matplotlib.lines.Line2D at 0x7fe4f9931ed0>,\n",
        "  <matplotlib.lines.Line2D at 0x7fe4f993c550>,\n",
        "  <matplotlib.lines.Line2D at 0x7fe4f9955b10>,\n",
        "  <matplotlib.lines.Line2D at 0x7fe4f9962190>,\n",
        "  <matplotlib.lines.Line2D at 0x7fe4f98f9750>,\n",
        "  <matplotlib.lines.Line2D at 0x7fe4f98f9d90>],\n",
        " 'fliers': [<matplotlib.lines.Line2D at 0x7fe4f982a1d0>,\n",
        "  <matplotlib.lines.Line2D at 0x7fe4f9bc2e10>,\n",
        "  <matplotlib.lines.Line2D at 0x7fe4f9be6a50>,\n",
        "  <matplotlib.lines.Line2D at 0x7fe4f99cb690>,\n",
        "  <matplotlib.lines.Line2D at 0x7fe4f9b4a350>,\n",
        "  <matplotlib.lines.Line2D at 0x7fe4f997f990>,\n",
        "  <matplotlib.lines.Line2D at 0x7fe4f99a35d0>,\n",
        "  <matplotlib.lines.Line2D at 0x7fe4f9949210>,\n",
        "  <matplotlib.lines.Line2D at 0x7fe4f9962e10>,\n",
        "  <matplotlib.lines.Line2D at 0x7fe4f9906a50>],\n",
        " 'means': [],\n",
        " 'medians': [<matplotlib.lines.Line2D at 0x7fe4f981db50>,\n",
        "  <matplotlib.lines.Line2D at 0x7fe4f9bc27d0>,\n",
        "  <matplotlib.lines.Line2D at 0x7fe4f9be6410>,\n",
        "  <matplotlib.lines.Line2D at 0x7fe4f99cb050>,\n",
        "  <matplotlib.lines.Line2D at 0x7fe4f9b56510>,\n",
        "  <matplotlib.lines.Line2D at 0x7fe4f997f350>,\n",
        "  <matplotlib.lines.Line2D at 0x7fe4f9997f50>,\n",
        "  <matplotlib.lines.Line2D at 0x7fe4f993cb90>,\n",
        "  <matplotlib.lines.Line2D at 0x7fe4f99627d0>,\n",
        "  <matplotlib.lines.Line2D at 0x7fe4f9906410>],\n",
        " 'whiskers': [<matplotlib.lines.Line2D at 0x7fe52fa37e90>,\n",
        "  <matplotlib.lines.Line2D at 0x7fe4f980b850>,\n",
        "  <matplotlib.lines.Line2D at 0x7fe4f982ae50>,\n",
        "  <matplotlib.lines.Line2D at 0x7fe4f9bb74d0>,\n",
        "  <matplotlib.lines.Line2D at 0x7fe4f9bcfa90>,\n",
        "  <matplotlib.lines.Line2D at 0x7fe4f9bd9110>,\n",
        "  <matplotlib.lines.Line2D at 0x7fe4f99b46d0>,\n",
        "  <matplotlib.lines.Line2D at 0x7fe4f99b4d10>,\n",
        "  <matplotlib.lines.Line2D at 0x7fe4f99d7310>,\n",
        "  <matplotlib.lines.Line2D at 0x7fe4f99d7950>,\n",
        "  <matplotlib.lines.Line2D at 0x7fe4f99e4a10>,\n",
        "  <matplotlib.lines.Line2D at 0x7fe4f99e4c90>,\n",
        "  <matplotlib.lines.Line2D at 0x7fe4f998d610>,\n",
        "  <matplotlib.lines.Line2D at 0x7fe4f998dc50>,\n",
        "  <matplotlib.lines.Line2D at 0x7fe4f9931250>,\n",
        "  <matplotlib.lines.Line2D at 0x7fe4f9931890>,\n",
        "  <matplotlib.lines.Line2D at 0x7fe4f9949e50>,\n",
        "  <matplotlib.lines.Line2D at 0x7fe4f99554d0>,\n",
        "  <matplotlib.lines.Line2D at 0x7fe4f98eda90>,\n",
        "  <matplotlib.lines.Line2D at 0x7fe4f98f9110>]}"
       ]
      },
      {
       "metadata": {},
       "output_type": "display_data",
       "png": "[encoded data removed]",
       "text": [
        "<matplotlib.figure.Figure at 0x7fe4f98b43d0>"
       ]
      }
     ],
     "prompt_number": 4
    },
    {
     "cell_type": "code",
     "collapsed": false,
     "input": [],
     "language": "python",
     "metadata": {},
     "outputs": []
    }
   ],
   "metadata": {}
  }
 ]
}