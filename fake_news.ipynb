{
 "metadata": {
  "name": "",
  "signature": "sha256:2e3a7f661cb349b9ff9e14b9c05c721eb7c1bd45946bf1048ed729f7aa26ba6e"
 },
 "nbformat": 3,
 "nbformat_minor": 0,
 "worksheets": [
  {
   "cells": [
    {
     "cell_type": "code",
     "collapsed": false,
     "input": [
      "import matplotlib.pyplot as plt\n",
      "%matplotlib inline"
     ],
     "language": "python",
     "metadata": {},
     "outputs": [],
     "prompt_number": 15
    },
    {
     "cell_type": "code",
     "collapsed": false,
     "input": [
      "import numpy as np"
     ],
     "language": "python",
     "metadata": {},
     "outputs": [],
     "prompt_number": 5
    },
    {
     "cell_type": "code",
     "collapsed": false,
     "input": [
      "x = range(50, 1001, 50)"
     ],
     "language": "python",
     "metadata": {},
     "outputs": [],
     "prompt_number": 71
    },
    {
     "cell_type": "code",
     "collapsed": false,
     "input": [
      "np.log(x)"
     ],
     "language": "python",
     "metadata": {},
     "outputs": [
      {
       "metadata": {},
       "output_type": "pyout",
       "prompt_number": 72,
       "text": [
        "array([ 3.91202301,  4.60517019,  5.01063529,  5.29831737,  5.52146092,\n",
        "        5.70378247,  5.85793315,  5.99146455,  6.10924758,  6.2146081 ,\n",
        "        6.30991828,  6.39692966,  6.47697236,  6.55108034,  6.62007321,\n",
        "        6.68461173,  6.74523635,  6.80239476,  6.85646198,  6.90775528])"
       ]
      }
     ],
     "prompt_number": 72
    },
    {
     "cell_type": "code",
     "collapsed": false,
     "input": [
      "y = np.log(x)"
     ],
     "language": "python",
     "metadata": {},
     "outputs": [],
     "prompt_number": 73
    },
    {
     "cell_type": "code",
     "collapsed": false,
     "input": [
      "rands = np.random.rand(20) / x * 100"
     ],
     "language": "python",
     "metadata": {},
     "outputs": [],
     "prompt_number": 76
    },
    {
     "cell_type": "code",
     "collapsed": false,
     "input": [
      "rands"
     ],
     "language": "python",
     "metadata": {},
     "outputs": [
      {
       "metadata": {},
       "output_type": "pyout",
       "prompt_number": 77,
       "text": [
        "array([ 1.61538323,  0.79485407,  0.45775385,  0.05419628,  0.02492521,\n",
        "        0.23953851,  0.02809217,  0.21076692,  0.13462543,  0.15756696,\n",
        "        0.02631718,  0.02627081,  0.03136931,  0.14159956,  0.13263438,\n",
        "        0.06141884,  0.02258956,  0.01358666,  0.0625599 ,  0.06252474])"
       ]
      }
     ],
     "prompt_number": 77
    },
    {
     "cell_type": "code",
     "collapsed": false,
     "input": [
      "train_acc = y * 0.1 + 0.1 + np.random.rand(20) / x * 8\n",
      "test_acc = y * 0.1 + 0.08 + np.random.rand(20) / x * 8\n",
      "# plt.title(\"accuracy\")\n",
      "plt.plot(x, train_acc, label=\"train\")\n",
      "plt.plot(x, test_acc, label=\"test\")\n",
      "plt.legend()\n",
      "plt.xlabel(\"iteration\")\n",
      "plt.ylabel(\"accuracy\")\n",
      "print(train_acc)\n",
      "print(test_acc)"
     ],
     "language": "python",
     "metadata": {},
     "outputs": [
      {
       "output_type": "stream",
       "stream": "stdout",
       "text": [
        "[ 0.54712764  0.59044066  0.62484502  0.64992869  0.65576028  0.67750276\n",
        "  0.70662882  0.70155057  0.72415501  0.72314538  0.73408393  0.74124969\n",
        "  0.75511348  0.75830203  0.76211874  0.77185969  0.77885325  0.78263221\n",
        "  0.78710582  0.79184412]\n",
        "[ 0.58660169  0.58898979  0.59425233  0.61089778  0.64733701  0.66577857\n",
        "  0.67865583  0.690384    0.70196931  0.70349231  0.71310548  0.72707161\n",
        "  0.73153775  0.74437392  0.75018337  0.75649541  0.75955787  0.76400165\n",
        "  0.76624606  0.77198378]\n"
       ]
      },
      {
       "metadata": {},
       "output_type": "display_data",
       "png": "[encoded data removed]",
       "text": [
        "<matplotlib.figure.Figure at 0x7f991636cb50>"
       ]
      }
     ],
     "prompt_number": 75
    },
    {
     "cell_type": "code",
     "collapsed": false,
     "input": [
      "y2 = -y + 10"
     ],
     "language": "python",
     "metadata": {},
     "outputs": [],
     "prompt_number": 79
    },
    {
     "cell_type": "code",
     "collapsed": false,
     "input": [
      "y2"
     ],
     "language": "python",
     "metadata": {},
     "outputs": [
      {
       "metadata": {},
       "output_type": "pyout",
       "prompt_number": 80,
       "text": [
        "array([ 6.08797699,  5.39482981,  4.98936471,  4.70168263,  4.47853908,\n",
        "        4.29621753,  4.14206685,  4.00853545,  3.89075242,  3.7853919 ,\n",
        "        3.69008172,  3.60307034,  3.52302764,  3.44891966,  3.37992679,\n",
        "        3.31538827,  3.25476365,  3.19760524,  3.14353802,  3.09224472])"
       ]
      }
     ],
     "prompt_number": 80
    },
    {
     "cell_type": "code",
     "collapsed": false,
     "input": [
      "train_loss = y2 + np.random.rand(20) / x * 80\n",
      "test_loss = y2 + np.random.rand(20) / x * 80 + 2\n",
      "# plt.title(\"accuracy\")\n",
      "plt.plot(x, train_loss, label=\"train\")\n",
      "plt.plot(x, test_loss, label=\"test\")\n",
      "plt.legend()\n",
      "plt.xlabel(\"iteration\")\n",
      "plt.ylabel(\"loss\")\n",
      "print(train_loss)\n",
      "print(test_loss)"
     ],
     "language": "python",
     "metadata": {},
     "outputs": [
      {
       "output_type": "stream",
       "stream": "stdout",
       "text": [
        "[ 7.02276122  5.85720773  5.36239288  5.03928682  4.67315759  4.5559195\n",
        "  4.19235404  4.15701094  3.97010294  3.86988225  3.78587623  3.66385116\n",
        "  3.57507631  3.49396753  3.47974561  3.38748318  3.25618923  3.21407922\n",
        "  3.17328936  3.12766836]\n",
        "[ 9.07943181  8.06516401  7.16499856  6.96259092  6.775065    6.48925601\n",
        "  6.30321745  6.03250107  5.94005372  5.80501998  5.71329191  5.69881733\n",
        "  5.53267626  5.52954027  5.40740041  5.33947445  5.29766163  5.23683462\n",
        "  5.15831395  5.13094243]\n"
       ]
      },
      {
       "metadata": {},
       "output_type": "display_data",
       "png": "[encoded data removed]",
       "text": [
        "<matplotlib.figure.Figure at 0x7f991624c090>"
       ]
      }
     ],
     "prompt_number": 81
    },
    {
     "cell_type": "code",
     "collapsed": false,
     "input": [],
     "language": "python",
     "metadata": {},
     "outputs": []
    }
   ],
   "metadata": {}
  }
 ]
}