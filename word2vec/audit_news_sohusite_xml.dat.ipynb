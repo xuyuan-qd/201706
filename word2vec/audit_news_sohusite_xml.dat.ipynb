{
 "metadata": {
  "name": "",
  "signature": "sha256:0407517838d98d8f9d47225475f82fd6883b079d205460edb646d8074b86a28d"
 },
 "nbformat": 3,
 "nbformat_minor": 0,
 "worksheets": [
  {
   "cells": [
    {
     "cell_type": "code",
     "collapsed": false,
     "input": [
      "f = open('data/news_sohusite_xml.dat')"
     ],
     "language": "python",
     "metadata": {},
     "outputs": [],
     "prompt_number": 1
    },
    {
     "cell_type": "code",
     "collapsed": false,
     "input": [
      "lines = f.readlines()"
     ],
     "language": "python",
     "metadata": {},
     "outputs": [],
     "prompt_number": 2
    },
    {
     "cell_type": "code",
     "collapsed": false,
     "input": [
      "lines[0]"
     ],
     "language": "python",
     "metadata": {},
     "outputs": [
      {
       "metadata": {},
       "output_type": "pyout",
       "prompt_number": 3,
       "text": [
        "'<doc>\\n'"
       ]
      }
     ],
     "prompt_number": 3
    },
    {
     "cell_type": "code",
     "collapsed": false,
     "input": [
      "lines[1]"
     ],
     "language": "python",
     "metadata": {},
     "outputs": [
      {
       "metadata": {},
       "output_type": "pyout",
       "prompt_number": 4,
       "text": [
        "'<url>http://gongyi.sohu.com/20120706/n347457739.shtml</url>\\n'"
       ]
      }
     ],
     "prompt_number": 4
    },
    {
     "cell_type": "code",
     "collapsed": false,
     "input": [
      "lines[2]"
     ],
     "language": "python",
     "metadata": {},
     "outputs": [
      {
       "metadata": {},
       "output_type": "pyout",
       "prompt_number": 5,
       "text": [
        "'<docno>98590b972ad2f0ea-34913306c0bb3300</docno>\\n'"
       ]
      }
     ],
     "prompt_number": 5
    },
    {
     "cell_type": "code",
     "collapsed": false,
     "input": [
      "lines[3]"
     ],
     "language": "python",
     "metadata": {},
     "outputs": [
      {
       "metadata": {},
       "output_type": "pyout",
       "prompt_number": 6,
       "text": [
        "'<contenttitle>\\xc9\\xee\\xdb\\xda\\xb5\\xd8\\xcc\\xfa\\xbd\\xab\\xc9\\xe8\\xc1\\xa2\\xa3\\xd6\\xa3\\xc9\\xa3\\xd0\\xcd\\xb7\\xb5\\xc8\\xb3\\xb5\\xcf\\xe1\\xa1\\xa1\\xc2\\xf2\\xcb\\xab\\xb1\\xb6\\xc6\\xb1\\xbf\\xc9\\xcf\\xed\\xd7\\xf8\\xc6\\xb1</contenttitle>\\n'"
       ]
      }
     ],
     "prompt_number": 6
    },
    {
     "cell_type": "code",
     "collapsed": false,
     "input": [
      "print lines[4][8:-11].decode('gb18030').encode('utf8')"
     ],
     "language": "python",
     "metadata": {},
     "outputs": [
      {
       "output_type": "stream",
       "stream": "stdout",
       "text": [
        ">\u5357\u90fd\u8baf\u3000\u8bb0\u8005\u5218\u51e1\u3000\u5468\u660c\u548c\u3000\u4efb\u7b11\u4e00\u3000\u7ee7\u63a8\u51fa\u65e5\u7968\u540e\uff0c\u6df1\u5733\u4eca\u540e\u5c06\u8bbe\u5730\u94c1\uff36\uff29\uff30\u5934\u7b49\u8f66\u53a2\uff0c\u8bbe\u5750\u7968\u5236\u3002\u6628\u65e5\uff0c\u300a\u5357\u90fd\uff2d\uff25\uff34\uff32\uff2f\u300b\u521b\u520a\u4eea\u5f0f\u66a8\uff12\uff10\uff11\uff12\u5e74\u6df1\u6e2f\u5730\u94c1\u5708\u9ad8\u5cf0\u8bba\u575b\u4e0a\u900f\u9732\uff0c\u5728\u672a\u6765\u7684\uff11\uff11\u53f7\u7ebf\u4e0a\u5c06\u589e\u52a0\u7279\u8272\u670d\u52a1\uff0c\u6ee1\u8db3\u4e0d\u540c\u6d88\u8d39\u5c42\u6b21\u7684\u4e58\u5ba2\u7684\u4e0d\u540c\u9700\u6c42\uff0c\u5982\u7279\u8bbe\u884c\u674e\u67b6\u7684\u8f66\u53a2\u548c\u4e70\u53cc\u500d\u7968\u53ef\u6709\u5ea7\u4f4d\u5750\u7684\uff36\uff29\uff30\u8f66\u53a2\u7b49\u3002\ue40c\u8bba\u575b\u4e0a\uff0c\u6df1\u5733\u5e02\u653f\u5e9c\u526f\u79d8\u4e66\u957f\u3001\u8f68\u9053\u4ea4\u901a\u5efa\u8bbe\u529e\u516c\u5ba4\u4e3b\u4efb\u8d75\u9e4f\u6797\u900f\u9732\uff0c\u5730\u94c1\u672a\u6765\u7684\u65b9\u5411\u5c06\u5206\u7b49\u7ea7\uff0c\u6ee1\u8db3\u4e0d\u540c\u5c42\u6b21\u7684\u4eba\u7684\u9700\u6c42\uff0c\u63d0\u4f9b\u4e0d\u540c\u5c42\u6b21\u7684\u6709\u9488\u5bf9\u7684\u670d\u52a1\u3002\u5176\u4e2d\u5305\u62ec\u4e00\u4e9b\u6863\u6b21\u7a0d\u5fae\u9ad8\u4e00\u4e9b\u7684\u670d\u52a1\u3002\u201c\u6211\u4eec\u8981\u8ba9\u516c\u5171\u4ea4\u901a\u4e5f\u80fd\u6ee1\u8db3\u6863\u6b21\u7a0d\u9ad8\u4e00\u4e9b\u7684\u670d\u52a1\u201d\u3002\u6bd4\u5982\uff0c\u5c1d\u8bd5\u6709\u5ea7\u4f4d\u7684\u5730\u94c1\u7968\u670d\u52a1\u3002\u5c24\u5176\u662f\u4e00\u4e9b\u8fdc\u9053\u800c\u6765\u7684\u4e58\u5ba2\uff0c\u901a\u8fc7\u63d0\u4f9b\u5750\u7968\u670d\u52a1\uff0c\u8ba9\u4e58\u5750\u5730\u94c1\u4e5f\u80fd\u4eab\u53d7\u5230\u975e\u5e38\u8212\u9002\u7684\u4f53\u9a8c\u3002\u4ed6\u8bf4\uff0c\u8fd9\u79cd\u5750\u7968\u7684\u670d\u52a1\u6709\u671b\u5728\u5730\u94c1\uff13\u671f\u4e0a\u5b9e\u884c\uff0c\u5c06\u52a0\u6302\uff12\u8282\u8f66\u53a2\u4ee5\u5b9e\u65bd\u82b1\u94b1\u53ef\u4e70\u5ea7\u4f4d\u7684\u670d\u52a1\u3002\ue40c\u201c\u6211\u4eec\u5e0c\u671b\u8f68\u9053\u4ea4\u901a\u548c\u5bb6\u91cc\u5f00\u7684\u8f66\u4e00\u6837\uff0c\u5206\u5f88\u591a\u79cd\u3002\u201d\u8d75\u9e4f\u6797\u8bf4\uff0c\u6bd4\u5982\u6709\u4e9b\u5730\u94c1\u662f\u201c\u89c2\u5149\u7ebf\u201d\uff0c\u4e0d\u4ec5\u6cbf\u9014\u7684\u98ce\u5149\u975e\u5e38\u597d\uff0c\u8fd8\u80fd\u51ed\u4e00\u5f20\u7968\u65e0\u6570\u6b21\u4e0a\u4e0b\uff0c\u5982\u540c\u65c5\u6e38\u65f6\u63d0\u4f9b\u7684\u201c\u901a\u7968\u670d\u52a1\u201d\u3002\u518d\u6bd4\u5982\uff0c\u8bbe\u7acb\u53ef\u4ee5\u653e\u5927\u4ef6\u884c\u674e\u7684\u8f66\u53a2\uff0c\u4eca\u540e\u901a\u8fc7\u8bbe\u4e13\u95e8\u53ef\u653e\u5927\u4ef6\u884c\u674e\u7684\u5ea7\u4f4d\uff0c\u907f\u514d\u50cf\u73b0\u5728\u653e\u884c\u674e\u4e0d\u592a\u65b9\u4fbf\u7684\u73b0\u8c61\u3002\u201c\u672a\u6765\u5730\u94c1\u521d\u6b65\u4e0d\u4ec5\u5728\u5e72\u7ebf\u4e0a\u94fa\u8bbe\uff0c\u8fd8\u4f1a\u5728\u652f\u7ebf\u3001\u57ce\u9645\u7ebf\u4e0a\u53bb\u5efa\u8bbe\u3002\u201d\ue40c\u201c\u89c9\u5f97\u5982\u679c\u8f66\u8d39\u4e0d\u592a\u8d35\u7684\u8bdd\uff0c\u8fd8\u662f\u613f\u610f\u8003\u8651\u7684\u3002\u201d\u6628\u65e5\u5e02\u6c11\u9ec4\u5c0f\u59d0\u8868\u793a\uff0c\u5c24\u5176\u662f\u4ece\u8001\u8857\u5230\u673a\u573a\u8fd9\u4e00\u6bb5\uff0c\u8001\u8857\u7ad9\u6bcf\u6b21\u4e0a\u4e0b\u5ba2\u90fd\u5f88\u591a\u4eba\uff0c\u800c\u5982\u679c\u8d76\u4e0a\u4e0a\u4e0b\u73ed\u9ad8\u5cf0\u671f\uff0c\u7279\u522b\u62e5\u6324\uff0c\u8981\u4e00\u8def\u4ece\u8001\u8857\u7ad9\u7ad9\u5230\u673a\u573a\uff0c\uff14\uff10\u3001\uff15\uff10\u5206\u949f\u8fd8\u662f\u633a\u5403\u529b\u7684\uff0c\u5b81\u613f\u591a\u82b1\u70b9\u94b1\u4e5f\u80fd\u7a0d\u5fae\u8212\u9002\u4e00\u70b9\u3002\u4f46\u662f\u767d\u9886\u6797\u5148\u751f\u5219\u8868\u793a\uff0c\u81ea\u5df1\u6bcf\u5929\u4e0a\u4e0b\u73ed\u90fd\u8981\u5750\u5730\u94c1\uff0c\u51fa\u53cc\u500d\u8f66\u8d44\u4e70\u5750\u7968\u8d39\u7528\u6709\u70b9\u9ad8\u3002\n"
       ]
      }
     ],
     "prompt_number": 25
    },
    {
     "cell_type": "code",
     "collapsed": false,
     "input": [],
     "language": "python",
     "metadata": {},
     "outputs": []
    },
    {
     "cell_type": "code",
     "collapsed": false,
     "input": [],
     "language": "python",
     "metadata": {},
     "outputs": []
    }
   ],
   "metadata": {}
  }
 ]
}